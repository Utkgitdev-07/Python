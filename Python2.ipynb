{
 "cells": [
  {
   "cell_type": "code",
   "execution_count": 5,
   "id": "85cef020-e1c1-4a26-a0c1-8366a4e1058d",
   "metadata": {},
   "outputs": [
    {
     "data": {
      "text/plain": [
       "' in MULTI LINE COMMENT we can use \\ntriple quotes\\nas we did in thus statement'"
      ]
     },
     "execution_count": 5,
     "metadata": {},
     "output_type": "execute_result"
    }
   ],
   "source": [
    " # Q1. How do you comment code in Python? What are the different types of comments?\n",
    "\n",
    "# ANS--we can comment in code in python with the help of hash(#) or triple quotes(\"\"\")\n",
    "  #there are two types of comment --single  line and multi line\n",
    "\n",
    "# in SINGLE LINE COMMENT we can use hash(#) only like i did in this statement\n",
    "\n",
    "\"\"\" in MULTI LINE COMMENT we can use \n",
    "triple quotes\n",
    "as we did in thus statement\"\"\"\n",
    "    "
   ]
  },
  {
   "cell_type": "code",
   "execution_count": 6,
   "id": "04b9f64d-f4b2-45e4-ba0e-afb4912fc85d",
   "metadata": {},
   "outputs": [],
   "source": [
    "# Q2. What are variables in Python? How do you declare and assign values to variables?\n",
    "\n",
    "#ANS--variables represent labelled storage locations,whose value can be manipulated durin run programm\n",
    "      #. The assignment operator, denoted by the “=” symbol, is the operator that is used to assign values to variables in Python.\n",
    "      #The line x=1 takes the known value, 1, and assigns that value to the variable with name “x”.\n",
    " \n",
    "x=1"
   ]
  },
  {
   "cell_type": "code",
   "execution_count": 26,
   "id": "6bf64aa2-8025-4960-9318-4786573aa550",
   "metadata": {},
   "outputs": [
    {
     "name": "stdout",
     "output_type": "stream",
     "text": [
      "9\n",
      "-----------------------------------------------------------------------\n",
      "1001.0\n"
     ]
    }
   ],
   "source": [
    "#Q3. How do you convert one data type to another in Python?\n",
    "\n",
    "#ANS--to convert we can use built in type name as a function\n",
    "      #for eg--\n",
    "s=\"1001\"\n",
    "c=int(s,2) #it convert s into integer to the base 2\n",
    "print(c)\n",
    "#----------------------------------------------------------------\n",
    "m=float(s)\n",
    "print(m)\n",
    "\n",
    "\n",
    "\n",
    "      "
   ]
  },
  {
   "cell_type": "code",
   "execution_count": 23,
   "id": "5d16a1fb-fbba-4a64-9638-5339a5ed8612",
   "metadata": {},
   "outputs": [],
   "source": [
    "# Q4. How do you write and execute a Python script from the command line?\n",
    "\n",
    "#ANS--The most basic and easy way to run a Python script is by using the python command.\n",
    "      #You need to open a command line and type the word python followed by the path to your script file like this: python first_script.py Hello World!\n",
    "      #Then you hit the ENTER button from the keyboard, and that's it."
   ]
  },
  {
   "cell_type": "code",
   "execution_count": 25,
   "id": "3f6755f5-f067-4faa-9553-308c9e37f382",
   "metadata": {},
   "outputs": [
    {
     "data": {
      "text/plain": [
       "[2, 3]"
      ]
     },
     "execution_count": 25,
     "metadata": {},
     "output_type": "execute_result"
    }
   ],
   "source": [
    "# Q5. Given a list my_list = [1, 2, 3, 4, 5], write the code to slice the list and obtain the sub-list [2, 3].\n",
    "#ANS--\n",
    "my_list=[1,2,3,4,5]\n",
    "my_list[1:3]"
   ]
  },
  {
   "cell_type": "code",
   "execution_count": 37,
   "id": "0311e9ca-e526-49d9-8a69-de3787596e11",
   "metadata": {},
   "outputs": [],
   "source": [
    "#Q6. What is a complex number in mathematics, and how is it represented in Python?\n",
    "\n",
    "#ANS--in mathematics, a complex number is an element of a number system,\n",
    "      #that extends the real numbers with a specific element denoted i, called the imaginary unit.\n",
    "     #in mathematics,every complex number can be expressed in the form a + bi, where a and b are real numbers.\n",
    "     #----------------------------------------------------------------------------------------------------------   \n",
    "    # In python It is represented in the form of (x + yj) \n",
    "    #where x and y are real numbers and j is an imaginary number which is the square root of -1.\n",
    "x=3+2j"
   ]
  },
  {
   "cell_type": "code",
   "execution_count": 28,
   "id": "26259149-0986-4ab9-a024-c4568d9360bd",
   "metadata": {},
   "outputs": [],
   "source": [
    "#Q7. What is the correct way to declare a variable named age and assign the value 25 to it?\n",
    "\n",
    "#ANS--we can simply do this\n",
    "age=25"
   ]
  },
  {
   "cell_type": "code",
   "execution_count": 31,
   "id": "8077d5f0-5fb6-476b-9cf7-e6612052d2e5",
   "metadata": {},
   "outputs": [],
   "source": [
    "# Q8. Declare a variable named price and assign the value 9.99 to it. What data type does this variable belong to?\n",
    "\n",
    "#ANS--\n",
    "price=9.99\n",
    "#variable price belong to float datatype\n"
   ]
  },
  {
   "cell_type": "code",
   "execution_count": 33,
   "id": "9c1eb135-3af7-4844-a44d-9a28be839358",
   "metadata": {},
   "outputs": [
    {
     "data": {
      "text/plain": [
       "'Utkarsh Yadav'"
      ]
     },
     "execution_count": 33,
     "metadata": {},
     "output_type": "execute_result"
    }
   ],
   "source": [
    "# Q9. Create a variable named name and assign your full name to it as a string. How would you print the value of this variable?\n",
    "\n",
    "#ANS--\n",
    "name=\"Utkarsh Yadav\"\n",
    "name  #thats how we print it "
   ]
  },
  {
   "cell_type": "code",
   "execution_count": 36,
   "id": "6c8fdb1c-95a7-4c23-bf11-6a7af49bacb7",
   "metadata": {},
   "outputs": [
    {
     "data": {
      "text/plain": [
       "'World'"
      ]
     },
     "execution_count": 36,
     "metadata": {},
     "output_type": "execute_result"
    }
   ],
   "source": [
    "# Q10. Given the string \"Hello, World!\", extract the substring \"World\".\n",
    "#ANS--\n",
    "string=\"Hello, World!\"\n",
    "string[7:12]"
   ]
  },
  {
   "cell_type": "code",
   "execution_count": 38,
   "id": "0d801a41-9cc3-4fc4-977f-9bda1f12c108",
   "metadata": {},
   "outputs": [
    {
     "name": "stdout",
     "output_type": "stream",
     "text": [
      "True\n"
     ]
    }
   ],
   "source": [
    "#Q11. Create a variable named \"is_student\" and assign it a boolean value indicating whether you are currently a student or not.\n",
    "#ANS--\n",
    "is_student=True\n",
    "print(is_student)"
   ]
  },
  {
   "cell_type": "code",
   "execution_count": null,
   "id": "c2cc9a5a-c3af-47ab-a192-2a70793f9394",
   "metadata": {},
   "outputs": [],
   "source": []
  }
 ],
 "metadata": {
  "kernelspec": {
   "display_name": "Python 3 (ipykernel)",
   "language": "python",
   "name": "python3"
  },
  "language_info": {
   "codemirror_mode": {
    "name": "ipython",
    "version": 3
   },
   "file_extension": ".py",
   "mimetype": "text/x-python",
   "name": "python",
   "nbconvert_exporter": "python",
   "pygments_lexer": "ipython3",
   "version": "3.10.8"
  }
 },
 "nbformat": 4,
 "nbformat_minor": 5
}
