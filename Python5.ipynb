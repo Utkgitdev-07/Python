{
 "cells": [
  {
   "cell_type": "code",
   "execution_count": 5,
   "id": "5d4bcbc5-e0e9-482d-b80f-fb5122e0aa4b",
   "metadata": {},
   "outputs": [],
   "source": [
    "#Q1, Create a vehicle class with an init method having instance variables as name_of_vehicle, max_speed and average_of_vehicle.\n",
    "#Ans--\n",
    "class vehicle:\n",
    "    def __init__(self,name_of_vehicle,max_speed,average_of_vehicle):\n",
    "        self.name_of_vehicle=name_of_vehicle\n",
    "        self.max_speed=max_speed\n",
    "        self.average_of_vehicle=average_of_vehicle"
   ]
  },
  {
   "cell_type": "code",
   "execution_count": 18,
   "id": "b47832d4-f510-485f-be18-cef9e3463f1e",
   "metadata": {},
   "outputs": [
    {
     "name": "stdout",
     "output_type": "stream",
     "text": [
      "the BMW have capacity of 2 passenger\n"
     ]
    }
   ],
   "source": [
    "#Q2. Create a child class car from the vehicle class created in Que 1, which will inherit the vehicle class.\n",
    "#Create a method named seating_capacity which takes capacity as an argument and returns the name of the vehicle and its seating capacity.\n",
    "\n",
    "#Ans--\n",
    "class car(vehicle):\n",
    "    def seating_capacity(self,capacity):\n",
    "        return print('the',(self.name_of_vehicle),'have capacity of',(capacity),'passenger')\n",
    "car_obj=car('BMW',300,100)\n",
    "car_obj.seating_capacity(2)\n"
   ]
  },
  {
   "cell_type": "code",
   "execution_count": 19,
   "id": "c91c1ca9-3ae4-4f88-81db-e8fad62584b0",
   "metadata": {},
   "outputs": [],
   "source": [
    "#Q3. What is multiple inheritance? Write a python code to demonstrate multiple inheritance.\n",
    "#Ans--When a class is derived from more than one base class it is called multiple Inheritance.\n",
    "      #The derived class inherits all the features of the base case.\n",
    "\n",
    "class father:\n",
    "    def face(self):\n",
    "        print(\"father have oval face shape\")\n",
    "    def hair(self):\n",
    "        print(\"father have black hair\")\n",
    "        "
   ]
  },
  {
   "cell_type": "code",
   "execution_count": 20,
   "id": "c4206304-eb9e-4676-a4b9-8b10c10f65ac",
   "metadata": {},
   "outputs": [],
   "source": [
    "class mother:\n",
    "    def nose(self):\n",
    "        print(\"mother have thin nose\")\n",
    "    def eye(self):\n",
    "        print(\"mother have black eye\")"
   ]
  },
  {
   "cell_type": "code",
   "execution_count": 21,
   "id": "bd3f9c14-51c6-4a2a-8c21-ec48c2d391b3",
   "metadata": {},
   "outputs": [],
   "source": [
    "class baby(father,mother):\n",
    "    def body(self):\n",
    "        print(\"baby have lean body\")\n",
    "        "
   ]
  },
  {
   "cell_type": "code",
   "execution_count": 22,
   "id": "309d9e8f-e474-40be-9f5a-1f76909a5eca",
   "metadata": {},
   "outputs": [],
   "source": [
    "baby_obj=baby()"
   ]
  },
  {
   "cell_type": "code",
   "execution_count": 24,
   "id": "e6cc7e79-179b-4b21-97b2-4b44bbf46bb0",
   "metadata": {},
   "outputs": [
    {
     "name": "stdout",
     "output_type": "stream",
     "text": [
      "baby have lean body\n"
     ]
    }
   ],
   "source": [
    "baby_obj.body()"
   ]
  },
  {
   "cell_type": "code",
   "execution_count": 25,
   "id": "46a677c9-033b-48c1-8f07-1f07543bd626",
   "metadata": {},
   "outputs": [
    {
     "name": "stdout",
     "output_type": "stream",
     "text": [
      "father have oval face shape\n"
     ]
    }
   ],
   "source": [
    "baby_obj.face()"
   ]
  },
  {
   "cell_type": "code",
   "execution_count": 26,
   "id": "225c6f2a-b6d1-445b-a559-50eb1491a91f",
   "metadata": {},
   "outputs": [
    {
     "name": "stdout",
     "output_type": "stream",
     "text": [
      "father have black hair\n"
     ]
    }
   ],
   "source": [
    "baby_obj.hair()"
   ]
  },
  {
   "cell_type": "code",
   "execution_count": 27,
   "id": "eda5465f-d2a0-49db-9599-b4db3fc15ff0",
   "metadata": {},
   "outputs": [
    {
     "name": "stdout",
     "output_type": "stream",
     "text": [
      "mother have thin nose\n"
     ]
    }
   ],
   "source": [
    "baby_obj.nose()"
   ]
  },
  {
   "cell_type": "code",
   "execution_count": 28,
   "id": "aa6fdd59-ca52-45ae-9c71-a1552237352a",
   "metadata": {},
   "outputs": [
    {
     "name": "stdout",
     "output_type": "stream",
     "text": [
      "mother have black eye\n"
     ]
    }
   ],
   "source": [
    "baby_obj.eye()"
   ]
  },
  {
   "cell_type": "code",
   "execution_count": 9,
   "id": "6644b503-33ea-4516-81d1-2d4b0e107374",
   "metadata": {},
   "outputs": [
    {
     "name": "stdout",
     "output_type": "stream",
     "text": [
      "20\n",
      "21\n"
     ]
    }
   ],
   "source": [
    "#Q4. What are getter and setter in python? Create a class and create a getter and a setter method in this class.\n",
    "#Ans-- We use getters & setters to add validation logic around getting and setting a value.\n",
    "# To avoid direct access of a class field i.e. private variables cannot be accessed directly or modified by external user.\n",
    "class age:\n",
    "    def __init__(utk,age):\n",
    "        utk.age=age\n",
    "        \n",
    "    #getter function\n",
    "    \n",
    "    def get(utk):\n",
    "        return utk.age\n",
    "    \n",
    "    #setter function\n",
    "    \n",
    "    def set(utk,age):\n",
    "        utk.age=age\n",
    "    \n",
    "utkarsh=age(20)     #making object\n",
    "print(utkarsh.get()) #using getter function\n",
    "utkarsh.set(21)      #using setter function\n",
    "utkarsh.set(21)\n",
    "print(utkarsh.get())  #using getter function\n",
    "utkarsh.set(21)"
   ]
  },
  {
   "cell_type": "code",
   "execution_count": 13,
   "id": "f42a4b00-f738-4a81-a891-a5c5b9ac000e",
   "metadata": {},
   "outputs": [
    {
     "name": "stdout",
     "output_type": "stream",
     "text": [
      "Inside Parent\n",
      "Inside Child\n"
     ]
    }
   ],
   "source": [
    "#Q5.What is method overriding in python? Write a python code to demonstrate method overriding.\n",
    "#Ans--When a method in a subclass has the same name, same parameters or signature and same return type as a method in its parent-class,\n",
    "#then the method in the subclass is said to override the method in the super-class and the process is called overriding\n",
    "class Parent():\n",
    "      \n",
    "    def show(self):\n",
    "        print(\"Inside Parent\")\n",
    "          \n",
    "class Child(Parent):\n",
    "      \n",
    "    def show(self):\n",
    "        print(\"Inside Child\")\n",
    "          \n",
    "obj = Child()\n",
    "ob=Parent()\n",
    "ob.show()\n",
    "obj.show()"
   ]
  },
  {
   "cell_type": "code",
   "execution_count": null,
   "id": "9c2308a9-0ee3-487d-8e45-a95889d20edf",
   "metadata": {},
   "outputs": [],
   "source": []
  },
  {
   "cell_type": "code",
   "execution_count": null,
   "id": "38cd5056-49c9-4ca8-8873-78d3a40f8935",
   "metadata": {},
   "outputs": [],
   "source": []
  }
 ],
 "metadata": {
  "kernelspec": {
   "display_name": "Python 3 (ipykernel)",
   "language": "python",
   "name": "python3"
  },
  "language_info": {
   "codemirror_mode": {
    "name": "ipython",
    "version": 3
   },
   "file_extension": ".py",
   "mimetype": "text/x-python",
   "name": "python",
   "nbconvert_exporter": "python",
   "pygments_lexer": "ipython3",
   "version": "3.10.8"
  }
 },
 "nbformat": 4,
 "nbformat_minor": 5
}
