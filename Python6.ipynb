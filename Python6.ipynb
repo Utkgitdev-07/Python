{
 "cells": [
  {
   "cell_type": "code",
   "execution_count": 5,
   "id": "6f09d7b5-232b-4839-8ef5-70c3e85d12cf",
   "metadata": {},
   "outputs": [],
   "source": [
    "#Q1. Explain Class and Object with respect to Object-Oriented Programming. Give a suitable example.\n",
    "#Ans--A class is a blueprint for creating objects providing initial values for state , and implementations of behavior.\n",
    "      #An object is an instance of a class, created at runtime. \n",
    "      #Each object has its own unique set of attributes and methods that operate on that data.\n",
    "        \n",
    "class demo:\n",
    "    def __init__(self,f_name,s_name):\n",
    "        self.f_name=f_name\n",
    "        self.s_name=s_name\n",
    "    def name(self):\n",
    "        print(\"your name is \",self.f_name,self.s_name)\n",
    "    \n",
    "        "
   ]
  },
  {
   "cell_type": "code",
   "execution_count": 9,
   "id": "82483b07-dabe-4c32-8cc3-fca0b5e487c0",
   "metadata": {},
   "outputs": [
    {
     "name": "stdout",
     "output_type": "stream",
     "text": [
      "your name is  utkarsh yadav\n",
      "your name is  tarak mehta\n"
     ]
    }
   ],
   "source": [
    "obj1=demo(\"utkarsh\",\"yadav\")  #object 1\n",
    "obj2=demo(\"tarak\",\"mehta\")    #object 2\n",
    "obj1.name()\n",
    "obj2.name()"
   ]
  },
  {
   "cell_type": "code",
   "execution_count": 10,
   "id": "97121816-67da-487a-b953-c6e4a25b5693",
   "metadata": {},
   "outputs": [],
   "source": [
    "#Q2. Name the four pillars of OOPs.\n",
    "#Ans--Encapsulation\n",
    "      #Inheritance\n",
    "      #Polymorphism\n",
    "      #Abstraction"
   ]
  },
  {
   "cell_type": "code",
   "execution_count": 16,
   "id": "c94ef591-c7eb-4e58-97ce-eb4478643cce",
   "metadata": {},
   "outputs": [
    {
     "name": "stdout",
     "output_type": "stream",
     "text": [
      "car name is BMW\n",
      "maximum speed is 300\n",
      "its buying year is  2021\n"
     ]
    }
   ],
   "source": [
    "#Q3. Explain why the __init__() function is used. Give a suitable example.\n",
    "#Ans--The init method is a special method in Python classes that acts as a constructor. \n",
    "      #It is automatically called when an object of the class is created. \n",
    "      #The init method is used to initialize the attributes of the class and set the default values.\n",
    "        \n",
    "class car:\n",
    "    def __init__(self,name,max_speed,year):\n",
    "        self.name=name\n",
    "        self.max_speed=max_speed\n",
    "        self.year=year\n",
    "m=car(\"BMW\",300,2021)\n",
    "print(\"car name is\",m.name)\n",
    "print(\"maximum speed is\",m.max_speed)\n",
    "print (\"its buying year is \",m.year)"
   ]
  },
  {
   "cell_type": "code",
   "execution_count": 17,
   "id": "68de9680-c947-4bcc-bccb-05d88df76ea3",
   "metadata": {},
   "outputs": [],
   "source": [
    "#Q4. Why self is used in OOPs?\n",
    "#Ans--self is a reference to the current instance of the class.\n",
    "     #It is used to access the attributes and methods of the class within the class definition"
   ]
  },
  {
   "cell_type": "code",
   "execution_count": 19,
   "id": "7630812c-99c3-4af3-949c-c0a74d33697c",
   "metadata": {},
   "outputs": [
    {
     "name": "stdout",
     "output_type": "stream",
     "text": [
      "This is parent class\n",
      "This is child class\n"
     ]
    }
   ],
   "source": [
    "#Q5. What is inheritance? Give an example for each type of inheritance.\n",
    "#Ans--Inheritance is a mechanism in object-oriented programming that allows a new class to be derived from an existing class, inheriting its attributes and behavior.\n",
    "      #This is useful for creating new classes that are related to existing classes and share some of their functionality.\n",
    "\n",
    "#Types of Inheritance\n",
    "\n",
    "#1>Single Inheritance\n",
    "   #Single inheritance enables a derived class to inherit properties from a single parent class, \n",
    "   #thus enabling code reusability and the addition of new features to existing code.\n",
    "class parent:\n",
    "    def fun1(self):\n",
    "        print(\"This is parent class\")\n",
    "class child(parent):\n",
    "    def fun2(self):\n",
    "        print(\"This is child class\")\n",
    "obj=child()\n",
    "obj.fun1()\n",
    "obj.fun2() "
   ]
  },
  {
   "cell_type": "code",
   "execution_count": 26,
   "id": "cb0adcd6-7a9a-4fee-a744-bc7860c3d729",
   "metadata": {},
   "outputs": [
    {
     "name": "stdout",
     "output_type": "stream",
     "text": [
      "this is father class\n",
      "this is mother class\n",
      "this is child class\n"
     ]
    }
   ],
   "source": [
    "#2>Multiple Inheritance:\n",
    "   #When a class can be derived from more than one base class this type of inheritance is called multiple inheritances.\n",
    "    #In multiple inheritances, all the features of the base classes are inherited into the derived class.\n",
    "class father:\n",
    "    def fun1(self):\n",
    "        print(\"this is father class\")\n",
    "class mother:\n",
    "    def fun2(self):\n",
    "        print(\"this is mother class\")\n",
    "class child(father,mother):\n",
    "    def fun3(self):\n",
    "        print(\"this is child class\")\n",
    "obj=child()\n",
    "obj.fun1()\n",
    "obj.fun2()\n",
    "obj.fun3()\n"
   ]
  },
  {
   "cell_type": "code",
   "execution_count": 27,
   "id": "d4df4e08-a2c9-4104-b7ee-9fc0a08acad8",
   "metadata": {},
   "outputs": [
    {
     "name": "stdout",
     "output_type": "stream",
     "text": [
      "this is Grand father class\n",
      "this is father class\n",
      "this is son class\n"
     ]
    }
   ],
   "source": [
    "#3>Multilevel Inheritance :\n",
    "   #In multilevel inheritance, features of the base class and the derived class are further inherited into the new derived class. \n",
    "    #This is similar to a relationship representing a child and a grandfather.\n",
    "class grandfather:\n",
    "    def fun1(self):\n",
    "        print(\"this is Grand father class\")\n",
    "class father(grandfather):\n",
    "    def fun2(self):\n",
    "        print(\"this is father class\")\n",
    "class son(father):\n",
    "    def fun3(self):\n",
    "        print(\"this is son class\")\n",
    "obj=son()\n",
    "obj.fun1()\n",
    "obj.fun2()\n",
    "obj.fun3()\n"
   ]
  },
  {
   "cell_type": "code",
   "execution_count": 29,
   "id": "ed7269c1-0302-40da-8902-f67ec4273894",
   "metadata": {},
   "outputs": [
    {
     "name": "stdout",
     "output_type": "stream",
     "text": [
      "this is Grand father class\n",
      "this is father class\n",
      "this is Grand father class\n",
      "this is son class\n"
     ]
    }
   ],
   "source": [
    "#4>Hierarchical Inheritance:\n",
    "   #When more than one derived class are created from a single base this type of inheritance is called hierarchical inheritance.\n",
    "    #In this program, we have a parent (base) class and two child (derived) classes.\n",
    "class grandfather:\n",
    "    def fun1(self):\n",
    "        print(\"this is Grand father class\")\n",
    "class father(grandfather):\n",
    "    def fun2(self):\n",
    "        print(\"this is father class\")\n",
    "class son(grandfather):\n",
    "    def fun3(self):\n",
    "        print(\"this is son class\")\n",
    "obj=son()\n",
    "obj1=father()\n",
    "obj1.fun1()\n",
    "obj1.fun2()\n",
    "obj.fun1()\n",
    "obj.fun3()"
   ]
  },
  {
   "cell_type": "code",
   "execution_count": 31,
   "id": "82561edd-bce9-48af-a301-5b46a51b8e45",
   "metadata": {},
   "outputs": [
    {
     "name": "stdout",
     "output_type": "stream",
     "text": [
      "This function is in school.\n",
      "This function is in student 1. \n"
     ]
    }
   ],
   "source": [
    "#5>Hybrid Inheritance\n",
    "   #Inheritance consisting of multiple types of inheritance is called hybrid inheritance.\n",
    "class School:\n",
    "    def func1(self):\n",
    "        print(\"This function is in school.\")\n",
    " \n",
    " \n",
    "class Student1(School):\n",
    "    def func2(self):\n",
    "        print(\"This function is in student 1. \")\n",
    " \n",
    " \n",
    "class Student2(School):\n",
    "    def func3(self):\n",
    "        print(\"This function is in student 2.\")\n",
    " \n",
    " \n",
    "class Student3(Student1, School):\n",
    "    def func4(self):\n",
    "        print(\"This function is in student 3.\")\n",
    " \n",
    " \n",
    "object = Student3()\n",
    "object.func1()\n",
    "object.func2()"
   ]
  },
  {
   "cell_type": "code",
   "execution_count": null,
   "id": "53b7a9b4-65a6-47b6-879c-b75a027f62f2",
   "metadata": {},
   "outputs": [],
   "source": []
  }
 ],
 "metadata": {
  "kernelspec": {
   "display_name": "Python 3 (ipykernel)",
   "language": "python",
   "name": "python3"
  },
  "language_info": {
   "codemirror_mode": {
    "name": "ipython",
    "version": 3
   },
   "file_extension": ".py",
   "mimetype": "text/x-python",
   "name": "python",
   "nbconvert_exporter": "python",
   "pygments_lexer": "ipython3",
   "version": "3.10.8"
  }
 },
 "nbformat": 4,
 "nbformat_minor": 5
}
