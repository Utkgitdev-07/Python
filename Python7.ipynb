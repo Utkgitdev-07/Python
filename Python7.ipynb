{
 "cells": [
  {
   "cell_type": "code",
   "execution_count": 5,
   "id": "38405777-8f64-45d2-83f4-9f30f0a3f0f9",
   "metadata": {},
   "outputs": [
    {
     "name": "stdout",
     "output_type": "stream",
     "text": [
      "student name is utkarsh\n",
      "roll no is 7\n"
     ]
    }
   ],
   "source": [
    "#Q1. What is Abstraction in OOps? Explain with an example.\n",
    "#Ans--Abstraction in python is defined as a process of handling complexity by hiding unnecessary information from the user. \n",
    "     #This is one of the core concepts of object-oriented programming (OOP) languages.\n",
    "     #That enables the user to implement even more complex logic on top of the provided abstraction without understanding or even thinking about all\n",
    "     #the hidden background/back-end complexity.\n",
    "\n",
    "import abc\n",
    "class pw:\n",
    "    @abc.abstractmethod\n",
    "    def stu_detail(self):\n",
    "        pass\n",
    "    @abc.abstractmethod\n",
    "    def roll(self):\n",
    "        pass\n",
    "class stu:\n",
    "    def stu_detail(self,name):\n",
    "        self.name=name\n",
    "        print(\"student name is\",self.name)\n",
    "    def roll(self,num):\n",
    "        self.num=num\n",
    "        print(\"roll no is\",num)\n",
    "obj=stu()\n",
    "obj.stu_detail(\"utkarsh\")\n",
    "obj.roll(7)"
   ]
  },
  {
   "cell_type": "code",
   "execution_count": 6,
   "id": "d2f6eaa2-a093-4e46-97e5-be8335cbf92f",
   "metadata": {},
   "outputs": [],
   "source": [
    "#Q2. Differentiate between Abstraction and Encapsulation. Explain with an example.\n",
    "#Ans--Abstraction is the process or method of gaining the information.\n",
    "     #While encapsulation is the process or method to contain the information.\n",
    "    #In abstraction, problems are solved at the design or interface level.\n",
    "    #While in encapsulation, problems are solved at the implementation level."
   ]
  },
  {
   "cell_type": "code",
   "execution_count": 7,
   "id": "3a7a8c90-bfce-4527-8f17-37928de51a2f",
   "metadata": {},
   "outputs": [],
   "source": [
    "#Q3. What is abc module in python? Why is it used?\n",
    "#Ans--The abc module in Python is the Abstract Base Class module. \n",
    "#It is used to define abstract base classes, which provide a way to define interfaces in Python.\n",
    "#An abstract base class is a class that cannot be instantiated, but can be subclassed.\n",
    "#The purpose of an abstract base class is to specify the interface that its subclasses must implement, without specifying how that implementation should be done.\n",
    "\n",
    "#The abc module provides a way to create abstract base classes in Python by using the ABC class, \n",
    "#as well as several decorators and methods to define abstract methods and properties."
   ]
  },
  {
   "cell_type": "code",
   "execution_count": 8,
   "id": "8fb8400a-a710-47c8-9d4e-f44fab222c56",
   "metadata": {},
   "outputs": [],
   "source": [
    "#Q4. How can we achieve data abstraction?\n",
    "#Ans--Data abstraction is a programming concept that allows you to define the interface of an object without revealing the underlying implementation details. In other words, it provides a way to separate the implementation details of an object from the way it is used by other objects.\n",
    "\n",
    "#There are several ways to achieve data abstraction in programming:\n",
    "\n",
    "#Abstraction through classes: One of the most common ways to achieve data abstraction is through the use of classes. In object-oriented programming, classes provide a way to define objects with certain properties and methods, but hide the underlying implementation details from the rest of the code. For example, you can define a class with public methods that expose its behavior, but keep the implementation details private.\n",
    "\n",
    "#Interfaces: An interface is a collection of abstract methods that must be implemented by any class that implements the interface. Interfaces are used to define a common set of behaviors that can be implemented by different classes, without specifying the implementation details. For example, in Java, you can define an interface that specifies the methods that must be implemented by a class that implements the interface.\n",
    "\n",
    "#Modules: In some programming languages, like Python, you can use modules to define a set of related functions and variables, and hide the implementation details behind a well-defined interface. Modules provide a way to encapsulate the implementation details of a set of functions, and expose them to the rest of the code through a simple API.\n",
    "\n",
    "#Information hiding: Information hiding is a programming concept that involves hiding the implementation details of an object or function behind a well-defined interface. Information hiding is used to protect the internal state of an object from being modified by external code, and to provide a clear and well-defined way for other objects to interact with the object."
   ]
  },
  {
   "cell_type": "code",
   "execution_count": null,
   "id": "f0b6754e-3de7-48ea-8502-952d5e0a3c2a",
   "metadata": {},
   "outputs": [],
   "source": [
    "#Q5. Can we create an instance of an abstract class? Explain your answer.\n",
    "#Ans--No, you cannot create an instance of an abstract class.\n",
    "#An abstract class is a class that cannot be instantiated on its own, but is intended to be subclassed and have its abstract methods implemented by the subclasses. \n",
    "#The purpose of an abstract class is to provide a common interface for a set of related classes, but not to be used as a standalone object."
   ]
  }
 ],
 "metadata": {
  "kernelspec": {
   "display_name": "Python 3 (ipykernel)",
   "language": "python",
   "name": "python3"
  },
  "language_info": {
   "codemirror_mode": {
    "name": "ipython",
    "version": 3
   },
   "file_extension": ".py",
   "mimetype": "text/x-python",
   "name": "python",
   "nbconvert_exporter": "python",
   "pygments_lexer": "ipython3",
   "version": "3.10.8"
  }
 },
 "nbformat": 4,
 "nbformat_minor": 5
}
