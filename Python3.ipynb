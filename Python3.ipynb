{
 "cells": [
  {
   "cell_type": "code",
   "execution_count": 6,
   "id": "5669c55c-2190-48e6-a8df-231a0cb8c145",
   "metadata": {},
   "outputs": [
    {
     "data": {
      "text/plain": [
       "[1, 3, 5, 7, 9, 11, 13, 15, 17, 19, 21, 23, 25]"
      ]
     },
     "execution_count": 6,
     "metadata": {},
     "output_type": "execute_result"
    }
   ],
   "source": [
    "#Q1. Which keyword is used to create a function? Create a function to return a list of odd numbers in the range of 1 to 25.\n",
    " \n",
    "#Ans--def keyword is used to create a function\n",
    " \n",
    "def demo():\n",
    "    a=[]\n",
    "    for i in range (26):\n",
    "        if i%2!=0:\n",
    "            a.append(i)\n",
    "    return (a)\n",
    "demo()\n",
    "  "
   ]
  },
  {
   "cell_type": "code",
   "execution_count": 10,
   "id": "3e6575bf-747c-421c-b444-9914b17b242c",
   "metadata": {},
   "outputs": [
    {
     "name": "stdout",
     "output_type": "stream",
     "text": [
      "(123, 456, 789)\n",
      "(987, 999)\n"
     ]
    }
   ],
   "source": [
    "#Q2. Why *args and **kwargs is used in some functions? Create a function each for *args and **kwargs to demonstrate their use.\n",
    "\n",
    "#Ans-- *args means we can pass n number of arguments in function \n",
    "       # its return type is tuple\n",
    "def test (*args):\n",
    "    return args\n",
    "\n",
    "print(test(123,456,789))\n",
    "print(test(987,999))"
   ]
  },
  {
   "cell_type": "code",
   "execution_count": 15,
   "id": "de019943-8ff7-4109-b85e-e655f8eb57b8",
   "metadata": {},
   "outputs": [
    {
     "name": "stdout",
     "output_type": "stream",
     "text": [
      "{'a': 2, 'b': 3}\n",
      "{'x': 100, 'y': 1, 'z': 9}\n"
     ]
    }
   ],
   "source": [
    "# **kwargs means we can pass n number of arguments in function but\n",
    "# its return type is dictionary\n",
    "def add(**kwargs):\n",
    "    return kwargs\n",
    "\n",
    "print(add(a=2,b=3))\n",
    "print(add(x=100,y=1,z=9))"
   ]
  },
  {
   "cell_type": "code",
   "execution_count": 27,
   "id": "6c9fa8e1-8aa3-4d1d-9c70-490793b81a20",
   "metadata": {},
   "outputs": [
    {
     "name": "stdout",
     "output_type": "stream",
     "text": [
      "2\n",
      "4\n",
      "6\n",
      "8\n",
      "10\n"
     ]
    }
   ],
   "source": [
    "#Q3. What is an iterator in python? Name the method used to initialise the iterator object and the method used for iteration.\n",
    "#Use these methods to print the first five elements of the given list [2, 4, 6, 8, 10, 12, 14,16, 18, 20].\n",
    " \n",
    "#Ans`--An iterator in Python is an object that is used to iterate over iterable objects like lists, tuples, dicts, and sets. \n",
    "      #The Python iterators object is initialized using the iter() method. \n",
    "      #It uses the next() method for iteration.\n",
    "        \n",
    "l=[2, 4, 6, 8, 10, 12, 14,16, 18, 20]\n",
    "lst_iter=iter(l)           #iterator is made\n",
    "for i in range(5):\n",
    "    print(next(lst_iter))"
   ]
  },
  {
   "cell_type": "code",
   "execution_count": 33,
   "id": "50ec0a6d-1a2e-43ab-a55b-78a3db10b93e",
   "metadata": {},
   "outputs": [
    {
     "name": "stdout",
     "output_type": "stream",
     "text": [
      "[2, 4]\n"
     ]
    }
   ],
   "source": [
    "#Q4. What is a generator function in python? Why yield keyword is used? Give an example of a generator function.\n",
    "#Ans--Python Generators are the functions that return the traversal object and used to create iterators. It traverses the entire items at once\n",
    "    #it is used to optimise memory consumption\n",
    "    #it give outcome without holding it in memory that is one by one \n",
    "    \n",
    "    #The yield keyword in Python is similar to a return statement used for\n",
    "    #returning values in Python which returns a generator object to the one who calls the function which contains yield, instead of simply returning a value.\n",
    "\n",
    "#Extracting even element of one list into another list using generator fuction.\n",
    "def gen(n):\n",
    "    for i in (n):\n",
    "        if i%2==0:\n",
    "            yield i\n",
    "n=[1,2,3,4,5]\n",
    "m=[]\n",
    "for i in gen(n):\n",
    "    m.append(i)\n",
    "print(m)"
   ]
  },
  {
   "cell_type": "code",
   "execution_count": 3,
   "id": "7c0fb0b3-18fe-45e2-a8aa-f6eab9674b5e",
   "metadata": {},
   "outputs": [
    {
     "name": "stdout",
     "output_type": "stream",
     "text": [
      "2\n",
      "3\n",
      "5\n",
      "7\n",
      "11\n",
      "13\n",
      "17\n",
      "19\n"
     ]
    }
   ],
   "source": [
    "#Q5. Create a generator function for prime numbers less than 1000. Use the next() method to print the first 20 prime numbers.\n",
    "#Ans--\n",
    "import math\n",
    "\n",
    "def main(n):\n",
    "    count = 2\n",
    "    \n",
    "    while count < n:\n",
    "        isprime = True\n",
    "        \n",
    "        for x in range(2, int(math.sqrt(count) + 1)):\n",
    "            if count % x == 0: \n",
    "                isprime = False\n",
    "                break\n",
    "        \n",
    "        if isprime:\n",
    "            yield count\n",
    "        \n",
    "        count += 1\n",
    "        \n",
    "\n",
    "for count in main(20):\n",
    "    print(count)"
   ]
  },
  {
   "cell_type": "code",
   "execution_count": 7,
   "id": "c48eb322-348d-454f-ae37-6f67ebb85f5a",
   "metadata": {},
   "outputs": [
    {
     "name": "stdout",
     "output_type": "stream",
     "text": [
      "0\n",
      "1\n",
      "1\n",
      "2\n",
      "3\n",
      "5\n",
      "8\n",
      "13\n",
      "21\n",
      "34\n"
     ]
    }
   ],
   "source": [
    "#Q6. Write a python program to print the first 10 Fibonacci numbers using a while loop.\n",
    "#Ans--\n",
    "a,b=0,1\n",
    "i=0\n",
    "while i<10:\n",
    "    print(a)\n",
    "    a,b=b,a+b\n",
    "    i=i+1"
   ]
  },
  {
   "cell_type": "code",
   "execution_count": 11,
   "id": "bb81535b-b4de-4ebe-a75c-1eef090a3734",
   "metadata": {},
   "outputs": [
    {
     "name": "stdout",
     "output_type": "stream",
     "text": [
      "['p', 'w', 's', 'k', 'i', 'l', 'l', 's']\n"
     ]
    }
   ],
   "source": [
    "#Q7. Write a List Comprehension to iterate through the given string: ‘pwskills’.\n",
    "#Expected output: ['p', 'w', 's', 'k', 'i', 'l', 'l', 's']\n",
    "\n",
    "#Ans--\n",
    "List=[ a for a in 'pwskills']\n",
    "print(List)"
   ]
  },
  {
   "cell_type": "code",
   "execution_count": 17,
   "id": "3860a0e4-0403-447a-bc7e-970ee2319b5b",
   "metadata": {},
   "outputs": [
    {
     "name": "stdout",
     "output_type": "stream",
     "text": [
      "it is pallindrome number\n"
     ]
    }
   ],
   "source": [
    "#Q8. Write a python program to check whether a given number is Palindrome or not using a while loop.\n",
    "#Ans--\n",
    "def pallin(n):\n",
    "    r=0\n",
    "    temp=n\n",
    "    while n>0:\n",
    "        dig=n%10\n",
    "        r=r*10+dig\n",
    "        n=n//10\n",
    "    if(r==temp):\n",
    "        print(\"it is pallindrome number\")\n",
    "    else :\n",
    "        print(\"it is not pallindrome number\")\n",
    "        \n",
    "pallin(12321)\n",
    "\n",
    "        \n",
    "            "
   ]
  },
  {
   "cell_type": "code",
   "execution_count": 19,
   "id": "a65d7fed-c739-4be4-ae52-1b1f9ae28168",
   "metadata": {},
   "outputs": [
    {
     "name": "stdout",
     "output_type": "stream",
     "text": [
      "[1, 3, 5, 7, 9, 11, 13, 15, 17, 19, 21, 23, 25, 27, 29, 31, 33, 35, 37, 39, 41, 43, 45, 47, 49, 51, 53, 55, 57, 59, 61, 63, 65, 67, 69, 71, 73, 75, 77, 79, 81, 83, 85, 87, 89, 91, 93, 95, 97, 99]\n"
     ]
    }
   ],
   "source": [
    "#Q9. Write a code to print odd numbers from 1 to 100 using list comprehension.\n",
    "#Note: Use a list comprehension to create a list from 1 to 100 and use another List comprehension to filter out odd numbers.\n",
    "#Ans--\n",
    "List=[ a for a in range(1,100)]\n",
    "lst=[ i for i in List if i%2!=0]\n",
    "print(lst)\n"
   ]
  }
 ],
 "metadata": {
  "kernelspec": {
   "display_name": "Python 3 (ipykernel)",
   "language": "python",
   "name": "python3"
  },
  "language_info": {
   "codemirror_mode": {
    "name": "ipython",
    "version": 3
   },
   "file_extension": ".py",
   "mimetype": "text/x-python",
   "name": "python",
   "nbconvert_exporter": "python",
   "pygments_lexer": "ipython3",
   "version": "3.10.8"
  }
 },
 "nbformat": 4,
 "nbformat_minor": 5
}
