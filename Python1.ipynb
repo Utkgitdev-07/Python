{
 "cells": [
  {
   "cell_type": "code",
   "execution_count": 5,
   "id": "4a5fdd26-d3f7-4784-b08b-d02db81e8a30",
   "metadata": {},
   "outputs": [],
   "source": [
    "                                           #problem1\n",
    "                                           #VARIABLES\n",
    "s=\"sudhanshu sir\" #string variable\n",
    "l=[2,5.56,\"utkarsh\",5+4j,2] #mutable LIST\n",
    "f=5.489 #float variable\n",
    "t=(2,5.56,\"utkarsh\",5+4j,2) #immutable TUPLE\n"
   ]
  },
  {
   "cell_type": "code",
   "execution_count": 4,
   "id": "b08a14ab-188d-4a8a-8aad-9e0322cd3240",
   "metadata": {},
   "outputs": [],
   "source": [
    "                                             #problem 2\n",
    "                                          #defining datatypes\n",
    "var1 = ' '  #string datatype\n",
    "var2 = '[ DS , ML , Python]' #string datatype\n",
    "var3 = [ 'DS' , 'ML', 'Python' ]  #list datatype\n",
    "var4 = 1 #int datatype\n"
   ]
  },
  {
   "cell_type": "code",
   "execution_count": 6,
   "id": "b48c39f8-1476-4e4c-84aa-184e15e89151",
   "metadata": {},
   "outputs": [
    {
     "name": "stdout",
     "output_type": "stream",
     "text": [
      "2.0\n",
      "1\n",
      "2\n",
      "25\n"
     ]
    }
   ],
   "source": [
    "                                           #problem 3\n",
    "    \n",
    " # / called Division (float): divides the first operand by the second operand and give answer \n",
    "x=4\n",
    "y=2\n",
    "print(x/y)\n",
    " \n",
    "# % called Modulus: returns the remainder when the first operand is divided by the second operand\n",
    "x=5\n",
    "y=2\n",
    "print(x%y)\n",
    " \n",
    "# // called floor division :divides the first operand by second and given quotient value\n",
    "x=5\n",
    "y=2\n",
    "print(x//y)\n",
    " \n",
    "# ** called power:returns first raised to the power second\n",
    "x=5\n",
    "y=2\n",
    "print(x**y)\n",
    "    \n",
    "    "
   ]
  },
  {
   "cell_type": "code",
   "execution_count": 2,
   "id": "02be7fe4-89b7-4785-8249-b81db194dd14",
   "metadata": {},
   "outputs": [
    {
     "name": "stdout",
     "output_type": "stream",
     "text": [
      "2 and its datatype is <class 'int'>\n",
      "3.91 and its datatype is <class 'float'>\n",
      "2233839298 and its datatype is <class 'int'>\n",
      "python and its datatype is <class 'str'>\n",
      "(5+9j) and its datatype is <class 'complex'>\n",
      "a and its datatype is <class 'str'>\n",
      "('hii', 55) and its datatype is <class 'tuple'>\n",
      "54 and its datatype is <class 'int'>\n",
      "85.225458 and its datatype is <class 'float'>\n",
      "7 and its datatype is <class 'int'>\n"
     ]
    }
   ],
   "source": [
    "                                         #problem 4\n",
    "    \n",
    "#Create a list of length 10 of your choice containing multiple types of data. Using for loop print the element and its data type.\n",
    " \n",
    "l=[2,3.91,2233839298,\"python\",5+9j,'a',(\"hii\",55),54,85.225458,7]\n",
    "for i in range(10):\n",
    "    print(l[i],\"and its datatype is\",type(l[i]))"
   ]
  },
  {
   "cell_type": "code",
   "execution_count": 8,
   "id": "5af6e22d-d648-451f-9f63-c1947de0ac0f",
   "metadata": {},
   "outputs": [
    {
     "name": "stdout",
     "output_type": "stream",
     "text": [
      "5\n"
     ]
    }
   ],
   "source": [
    "                                                        #program5\n",
    "#Using a while loop, verify if the number A is purely divisible by number B and if so then how many times it can be divisible.\n",
    "a=20\n",
    "b=2\n",
    "c=0\n",
    "while(a>=b):\n",
    "    if (a%b==0):\n",
    "        c=c+1\n",
    "    b=b+1 \n",
    "print(c)\n"
   ]
  },
  {
   "cell_type": "code",
   "execution_count": 22,
   "id": "c4344d24-16ed-4e9a-a33c-d78716d59eb1",
   "metadata": {},
   "outputs": [
    {
     "name": "stdout",
     "output_type": "stream",
     "text": [
      "2 is not divisible by 3\n",
      "33 is divisible by 3\n",
      "3 is divisible by 3\n",
      "9 is divisible by 3\n",
      "6 is divisible by 3\n",
      "8 is not divisible by 3\n",
      "78 is divisible by 3\n",
      "54 is divisible by 3\n",
      "26 is not divisible by 3\n",
      "81 is divisible by 3\n",
      "88 is not divisible by 3\n",
      "5 is not divisible by 3\n",
      "4 is not divisible by 3\n",
      "56 is not divisible by 3\n",
      "57 is divisible by 3\n",
      "458 is not divisible by 3\n",
      "213 is divisible by 3\n",
      "584 is not divisible by 3\n",
      "66 is divisible by 3\n",
      "524 is not divisible by 3\n",
      "183 is divisible by 3\n",
      "57 is divisible by 3\n",
      "654 is divisible by 3\n",
      "892 is not divisible by 3\n",
      "541 is not divisible by 3\n"
     ]
    }
   ],
   "source": [
    "                                                #problem 6\n",
    "# Create a list containing 25 int type data. Using for loop and if-else condition print if the element is divisible by 3 or not.\n",
    "l=[2,33,3,9,6,8,78,54,26,81,88,5,4,56,57,458,213,584,66,524,183,57,654,892,541]\n",
    "for i in range (25):\n",
    "    if(l[i]%3==0):\n",
    "        print (l[i],\"is divisible by 3\")\n",
    "    else:\n",
    "        print (l[i],\"is not divisible by 3\")\n",
    "        \n",
    "    "
   ]
  },
  {
   "cell_type": "code",
   "execution_count": 28,
   "id": "0356ee7f-3c29-4c0a-998e-ba56eddc96f5",
   "metadata": {},
   "outputs": [],
   "source": [
    "                                                          #problem7\n",
    "# What do you understand about mutable and immutable data types? Give examples for both showing this property.\n",
    " \n",
    "#mutable datatypes are the one whose value can be changeable and duplicateable after it is created \n",
    "   #eg--list,set,dictionary\n",
    "l=[1,22,9,5,7,22]\n",
    "l[3]=100 #can be done\n",
    "\n",
    "\n",
    "#immutable datatypes are the one whose value can not be changeable but duplicateable after it is created \n",
    "       #eg--tuple,int,float\n",
    "t=(1,22,9,5,7,22)\n",
    "# t(3)=100 #can'nt done gives error\n",
    "\n",
    "\n"
   ]
  },
  {
   "cell_type": "code",
   "execution_count": null,
   "id": "1a916b0d-1e1a-4fc8-9ae5-196f744bf3b3",
   "metadata": {},
   "outputs": [],
   "source": []
  },
  {
   "cell_type": "code",
   "execution_count": null,
   "id": "1e11fea0-809c-4be8-b64b-3c5037b75e6c",
   "metadata": {},
   "outputs": [],
   "source": []
  }
 ],
 "metadata": {
  "kernelspec": {
   "display_name": "Python 3 (ipykernel)",
   "language": "python",
   "name": "python3"
  },
  "language_info": {
   "codemirror_mode": {
    "name": "ipython",
    "version": 3
   },
   "file_extension": ".py",
   "mimetype": "text/x-python",
   "name": "python",
   "nbconvert_exporter": "python",
   "pygments_lexer": "ipython3",
   "version": "3.10.8"
  }
 },
 "nbformat": 4,
 "nbformat_minor": 5
}
